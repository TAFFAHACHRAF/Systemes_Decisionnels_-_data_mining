{
 "cells": [
  {
   "cell_type": "markdown",
   "id": "edd41b32",
   "metadata": {},
   "source": [
    "In the first and second parts of this workshop, we will be using the Advertising database. The main objective is to create a regression model to predict the Sales variable.\n",
    "\n",
    "The third part addresses the classification problem by applying logistic regression to the diabetescsv.csv database.\n",
    "\n",
    "To do this, we start by learning how to:\n",
    "\n",
    "Retrieve data from a CSV file and explore its main characteristics.\n",
    "Visualize the data in the form of graphs."
   ]
  },
  {
   "cell_type": "markdown",
   "id": "b1dc9a7e",
   "metadata": {},
   "source": [
    "# Part 1: Simple Linear Regression"
   ]
  },
  {
   "cell_type": "markdown",
   "id": "cecfdd29",
   "metadata": {},
   "source": [
    "## Retrieve data from the advertising.csv file and explore its main characteristics."
   ]
  },
  {
   "cell_type": "code",
   "execution_count": 2,
   "id": "e8a50e53",
   "metadata": {},
   "outputs": [],
   "source": [
    "import pandas as pd"
   ]
  },
  {
   "cell_type": "code",
   "execution_count": 3,
   "id": "0d900b96",
   "metadata": {},
   "outputs": [],
   "source": [
    "data = pd.read_csv(\"./dataset/advertising.csv\")"
   ]
  },
  {
   "cell_type": "code",
   "execution_count": null,
   "id": "f83990e8",
   "metadata": {},
   "outputs": [
    {
     "data": {
      "text/html": [
       "<div>\n",
       "<style scoped>\n",
       "    .dataframe tbody tr th:only-of-type {\n",
       "        vertical-align: middle;\n",
       "    }\n",
       "\n",
       "    .dataframe tbody tr th {\n",
       "        vertical-align: top;\n",
       "    }\n",
       "\n",
       "    .dataframe thead th {\n",
       "        text-align: right;\n",
       "    }\n",
       "</style>\n",
       "<table border=\"1\" class=\"dataframe\">\n",
       "  <thead>\n",
       "    <tr style=\"text-align: right;\">\n",
       "      <th></th>\n",
       "      <th>TV</th>\n",
       "      <th>Radio</th>\n",
       "      <th>Newspaper</th>\n",
       "      <th>Sales</th>\n",
       "    </tr>\n",
       "  </thead>\n",
       "  <tbody>\n",
       "    <tr>\n",
       "      <th>0</th>\n",
       "      <td>230.1</td>\n",
       "      <td>37.8</td>\n",
       "      <td>69.2</td>\n",
       "      <td>22.1</td>\n",
       "    </tr>\n",
       "    <tr>\n",
       "      <th>1</th>\n",
       "      <td>44.5</td>\n",
       "      <td>39.3</td>\n",
       "      <td>45.1</td>\n",
       "      <td>10.4</td>\n",
       "    </tr>\n",
       "    <tr>\n",
       "      <th>2</th>\n",
       "      <td>17.2</td>\n",
       "      <td>45.9</td>\n",
       "      <td>69.3</td>\n",
       "      <td>12.0</td>\n",
       "    </tr>\n",
       "    <tr>\n",
       "      <th>3</th>\n",
       "      <td>151.5</td>\n",
       "      <td>41.3</td>\n",
       "      <td>58.5</td>\n",
       "      <td>16.5</td>\n",
       "    </tr>\n",
       "    <tr>\n",
       "      <th>4</th>\n",
       "      <td>180.8</td>\n",
       "      <td>10.8</td>\n",
       "      <td>58.4</td>\n",
       "      <td>17.9</td>\n",
       "    </tr>\n",
       "    <tr>\n",
       "      <th>...</th>\n",
       "      <td>...</td>\n",
       "      <td>...</td>\n",
       "      <td>...</td>\n",
       "      <td>...</td>\n",
       "    </tr>\n",
       "    <tr>\n",
       "      <th>195</th>\n",
       "      <td>38.2</td>\n",
       "      <td>3.7</td>\n",
       "      <td>13.8</td>\n",
       "      <td>7.6</td>\n",
       "    </tr>\n",
       "    <tr>\n",
       "      <th>196</th>\n",
       "      <td>94.2</td>\n",
       "      <td>4.9</td>\n",
       "      <td>8.1</td>\n",
       "      <td>14.0</td>\n",
       "    </tr>\n",
       "    <tr>\n",
       "      <th>197</th>\n",
       "      <td>177.0</td>\n",
       "      <td>9.3</td>\n",
       "      <td>6.4</td>\n",
       "      <td>14.8</td>\n",
       "    </tr>\n",
       "    <tr>\n",
       "      <th>198</th>\n",
       "      <td>283.6</td>\n",
       "      <td>42.0</td>\n",
       "      <td>66.2</td>\n",
       "      <td>25.5</td>\n",
       "    </tr>\n",
       "    <tr>\n",
       "      <th>199</th>\n",
       "      <td>232.1</td>\n",
       "      <td>8.6</td>\n",
       "      <td>8.7</td>\n",
       "      <td>18.4</td>\n",
       "    </tr>\n",
       "  </tbody>\n",
       "</table>\n",
       "<p>200 rows × 4 columns</p>\n",
       "</div>"
      ],
      "text/plain": [
       "        TV  Radio  Newspaper  Sales\n",
       "0    230.1   37.8       69.2   22.1\n",
       "1     44.5   39.3       45.1   10.4\n",
       "2     17.2   45.9       69.3   12.0\n",
       "3    151.5   41.3       58.5   16.5\n",
       "4    180.8   10.8       58.4   17.9\n",
       "..     ...    ...        ...    ...\n",
       "195   38.2    3.7       13.8    7.6\n",
       "196   94.2    4.9        8.1   14.0\n",
       "197  177.0    9.3        6.4   14.8\n",
       "198  283.6   42.0       66.2   25.5\n",
       "199  232.1    8.6        8.7   18.4\n",
       "\n",
       "[200 rows x 4 columns]"
      ]
     },
     "execution_count": 338,
     "metadata": {},
     "output_type": "execute_result"
    }
   ],
   "source": [
    "data"
   ]
  },
  {
   "cell_type": "code",
   "execution_count": 4,
   "id": "1815decd",
   "metadata": {},
   "outputs": [
    {
     "data": {
      "text/html": [
       "<div>\n",
       "<style scoped>\n",
       "    .dataframe tbody tr th:only-of-type {\n",
       "        vertical-align: middle;\n",
       "    }\n",
       "\n",
       "    .dataframe tbody tr th {\n",
       "        vertical-align: top;\n",
       "    }\n",
       "\n",
       "    .dataframe thead th {\n",
       "        text-align: right;\n",
       "    }\n",
       "</style>\n",
       "<table border=\"1\" class=\"dataframe\">\n",
       "  <thead>\n",
       "    <tr style=\"text-align: right;\">\n",
       "      <th></th>\n",
       "      <th>TV</th>\n",
       "      <th>Radio</th>\n",
       "      <th>Newspaper</th>\n",
       "      <th>Sales</th>\n",
       "    </tr>\n",
       "  </thead>\n",
       "  <tbody>\n",
       "    <tr>\n",
       "      <th>0</th>\n",
       "      <td>230.1</td>\n",
       "      <td>37.8</td>\n",
       "      <td>69.2</td>\n",
       "      <td>22.1</td>\n",
       "    </tr>\n",
       "    <tr>\n",
       "      <th>1</th>\n",
       "      <td>44.5</td>\n",
       "      <td>39.3</td>\n",
       "      <td>45.1</td>\n",
       "      <td>10.4</td>\n",
       "    </tr>\n",
       "    <tr>\n",
       "      <th>2</th>\n",
       "      <td>17.2</td>\n",
       "      <td>45.9</td>\n",
       "      <td>69.3</td>\n",
       "      <td>12.0</td>\n",
       "    </tr>\n",
       "    <tr>\n",
       "      <th>3</th>\n",
       "      <td>151.5</td>\n",
       "      <td>41.3</td>\n",
       "      <td>58.5</td>\n",
       "      <td>16.5</td>\n",
       "    </tr>\n",
       "    <tr>\n",
       "      <th>4</th>\n",
       "      <td>180.8</td>\n",
       "      <td>10.8</td>\n",
       "      <td>58.4</td>\n",
       "      <td>17.9</td>\n",
       "    </tr>\n",
       "  </tbody>\n",
       "</table>\n",
       "</div>"
      ],
      "text/plain": [
       "      TV  Radio  Newspaper  Sales\n",
       "0  230.1   37.8       69.2   22.1\n",
       "1   44.5   39.3       45.1   10.4\n",
       "2   17.2   45.9       69.3   12.0\n",
       "3  151.5   41.3       58.5   16.5\n",
       "4  180.8   10.8       58.4   17.9"
      ]
     },
     "execution_count": 4,
     "metadata": {},
     "output_type": "execute_result"
    }
   ],
   "source": [
    "data.head()"
   ]
  },
  {
   "cell_type": "code",
   "execution_count": 5,
   "id": "6c319996",
   "metadata": {},
   "outputs": [
    {
     "data": {
      "text/plain": [
       "TV           float64\n",
       "Radio        float64\n",
       "Newspaper    float64\n",
       "Sales        float64\n",
       "dtype: object"
      ]
     },
     "execution_count": 5,
     "metadata": {},
     "output_type": "execute_result"
    }
   ],
   "source": [
    "data.dtypes"
   ]
  },
  {
   "cell_type": "code",
   "execution_count": null,
   "id": "3f7ebb0d",
   "metadata": {},
   "outputs": [
    {
     "data": {
      "text/plain": [
       "TV           0\n",
       "Radio        0\n",
       "Newspaper    0\n",
       "Sales        0\n",
       "dtype: int64"
      ]
     },
     "execution_count": 341,
     "metadata": {},
     "output_type": "execute_result"
    }
   ],
   "source": [
    "#Checking null values\n",
    "data.isnull().sum()"
   ]
  },
  {
   "cell_type": "code",
   "execution_count": null,
   "id": "9160e2da",
   "metadata": {},
   "outputs": [],
   "source": [
    "# test_data = test_data.dropna()"
   ]
  },
  {
   "cell_type": "markdown",
   "id": "29506857",
   "metadata": {},
   "source": [
    "## Initialize X (predictors, independent variable) with the TV variable and y (target, dependent variable)."
   ]
  },
  {
   "cell_type": "code",
   "execution_count": 6,
   "id": "b65ab664",
   "metadata": {},
   "outputs": [],
   "source": [
    "X = data['TV'].values\n",
    "y = data['Sales'].values"
   ]
  },
  {
   "cell_type": "code",
   "execution_count": 7,
   "id": "9b9be41b",
   "metadata": {},
   "outputs": [
    {
     "data": {
      "text/plain": [
       "array([230.1,  44.5,  17.2, 151.5, 180.8,   8.7,  57.5, 120.2,   8.6,\n",
       "       199.8,  66.1, 214.7,  23.8,  97.5, 204.1, 195.4,  67.8, 281.4,\n",
       "        69.2, 147.3, 218.4, 237.4,  13.2, 228.3,  62.3, 262.9, 142.9,\n",
       "       240.1, 248.8,  70.6, 292.9, 112.9,  97.2, 265.6,  95.7, 290.7,\n",
       "       266.9,  74.7,  43.1, 228. , 202.5, 177. , 293.6, 206.9,  25.1,\n",
       "       175.1,  89.7, 239.9, 227.2,  66.9, 199.8, 100.4, 216.4, 182.6,\n",
       "       262.7, 198.9,   7.3, 136.2, 210.8, 210.7,  53.5, 261.3, 239.3,\n",
       "       102.7, 131.1,  69. ,  31.5, 139.3, 237.4, 216.8, 199.1, 109.8,\n",
       "        26.8, 129.4, 213.4,  16.9,  27.5, 120.5,   5.4, 116. ,  76.4,\n",
       "       239.8,  75.3,  68.4, 213.5, 193.2,  76.3, 110.7,  88.3, 109.8,\n",
       "       134.3,  28.6, 217.7, 250.9, 107.4, 163.3, 197.6, 184.9, 289.7,\n",
       "       135.2, 222.4, 296.4, 280.2, 187.9, 238.2, 137.9,  25. ,  90.4,\n",
       "        13.1, 255.4, 225.8, 241.7, 175.7, 209.6,  78.2,  75.1, 139.2,\n",
       "        76.4, 125.7,  19.4, 141.3,  18.8, 224. , 123.1, 229.5,  87.2,\n",
       "         7.8,  80.2, 220.3,  59.6,   0.7, 265.2,   8.4, 219.8,  36.9,\n",
       "        48.3,  25.6, 273.7,  43. , 184.9,  73.4, 193.7, 220.5, 104.6,\n",
       "        96.2, 140.3, 240.1, 243.2,  38. ,  44.7, 280.7, 121. , 197.6,\n",
       "       171.3, 187.8,   4.1,  93.9, 149.8,  11.7, 131.7, 172.5,  85.7,\n",
       "       188.4, 163.5, 117.2, 234.5,  17.9, 206.8, 215.4, 284.3,  50. ,\n",
       "       164.5,  19.6, 168.4, 222.4, 276.9, 248.4, 170.2, 276.7, 165.6,\n",
       "       156.6, 218.5,  56.2, 287.6, 253.8, 205. , 139.5, 191.1, 286. ,\n",
       "        18.7,  39.5,  75.5,  17.2, 166.8, 149.7,  38.2,  94.2, 177. ,\n",
       "       283.6, 232.1])"
      ]
     },
     "execution_count": 7,
     "metadata": {},
     "output_type": "execute_result"
    }
   ],
   "source": [
    "X"
   ]
  },
  {
   "cell_type": "code",
   "execution_count": 8,
   "id": "6f2e9abe",
   "metadata": {},
   "outputs": [
    {
     "data": {
      "text/plain": [
       "array([22.1, 10.4, 12. , 16.5, 17.9,  7.2, 11.8, 13.2,  4.8, 15.6, 12.6,\n",
       "       17.4,  9.2, 13.7, 19. , 22.4, 12.5, 24.4, 11.3, 14.6, 18. , 17.5,\n",
       "        5.6, 20.5,  9.7, 17. , 15. , 20.9, 18.9, 10.5, 21.4, 11.9, 13.2,\n",
       "       17.4, 11.9, 17.8, 25.4, 14.7, 10.1, 21.5, 16.6, 17.1, 20.7, 17.9,\n",
       "        8.5, 16.1, 10.6, 23.2, 19.8,  9.7, 16.4, 10.7, 22.6, 21.2, 20.2,\n",
       "       23.7,  5.5, 13.2, 23.8, 18.4,  8.1, 24.2, 20.7, 14. , 16. , 11.3,\n",
       "       11. , 13.4, 18.9, 22.3, 18.3, 12.4,  8.8, 11. , 17. ,  8.7,  6.9,\n",
       "       14.2,  5.3, 11. , 11.8, 17.3, 11.3, 13.6, 21.7, 20.2, 12. , 16. ,\n",
       "       12.9, 16.7, 14. ,  7.3, 19.4, 22.2, 11.5, 16.9, 16.7, 20.5, 25.4,\n",
       "       17.2, 16.7, 23.8, 19.8, 19.7, 20.7, 15. ,  7.2, 12. ,  5.3, 19.8,\n",
       "       18.4, 21.8, 17.1, 20.9, 14.6, 12.6, 12.2,  9.4, 15.9,  6.6, 15.5,\n",
       "        7. , 16.6, 15.2, 19.7, 10.6,  6.6, 11.9, 24.7,  9.7,  1.6, 17.7,\n",
       "        5.7, 19.6, 10.8, 11.6,  9.5, 20.8,  9.6, 20.7, 10.9, 19.2, 20.1,\n",
       "       10.4, 12.3, 10.3, 18.2, 25.4, 10.9, 10.1, 16.1, 11.6, 16.6, 16. ,\n",
       "       20.6,  3.2, 15.3, 10.1,  7.3, 12.9, 16.4, 13.3, 19.9, 18. , 11.9,\n",
       "       16.9,  8. , 17.2, 17.1, 20. ,  8.4, 17.5,  7.6, 16.7, 16.5, 27. ,\n",
       "       20.2, 16.7, 16.8, 17.6, 15.5, 17.2,  8.7, 26.2, 17.6, 22.6, 10.3,\n",
       "       17.3, 20.9,  6.7, 10.8, 11.9,  5.9, 19.6, 17.3,  7.6, 14. , 14.8,\n",
       "       25.5, 18.4])"
      ]
     },
     "execution_count": 8,
     "metadata": {},
     "output_type": "execute_result"
    }
   ],
   "source": [
    "y"
   ]
  },
  {
   "cell_type": "code",
   "execution_count": 9,
   "id": "4fff42f7",
   "metadata": {},
   "outputs": [
    {
     "data": {
      "text/plain": [
       "296.4"
      ]
     },
     "execution_count": 9,
     "metadata": {},
     "output_type": "execute_result"
    }
   ],
   "source": [
    "X.max()"
   ]
  },
  {
   "cell_type": "markdown",
   "id": "c216ee7c",
   "metadata": {},
   "source": [
    "## Why is this a regression problem?"
   ]
  },
  {
   "cell_type": "markdown",
   "id": "90423baa",
   "metadata": {},
   "source": [
    "Supervised learning: We have the target column.\n",
    "It's a prediction task.\n",
    "(R) Among the assumptions of regression, X must be deterministic.\n",
    "It involves continuous variables."
   ]
  },
  {
   "cell_type": "markdown",
   "id": "8ab9c361",
   "metadata": {},
   "source": [
    "Visualize the database with Matplotlib."
   ]
  },
  {
   "cell_type": "code",
   "execution_count": 10,
   "id": "72710c31",
   "metadata": {},
   "outputs": [
    {
     "data": {
      "image/png": "[encoded data removed]",
      "text/plain": [
       "<Figure size 640x480 with 1 Axes>"
      ]
     },
     "metadata": {},
     "output_type": "display_data"
    }
   ],
   "source": [
    "import matplotlib.pyplot as plt\n",
    "\n",
    "plt.plot(X,y,\"b*\")\n",
    "plt.show()"
   ]
  },
  {
   "cell_type": "code",
   "execution_count": 11,
   "id": "d4abcc79",
   "metadata": {},
   "outputs": [
    {
     "data": {
      "image/png": "[encoded data removed]",
      "text/plain": [
       "<Figure size 640x480 with 1 Axes>"
      ]
     },
     "metadata": {},
     "output_type": "display_data"
    }
   ],
   "source": [
    "plt.scatter(X, y)\n",
    "plt.xlabel('TV Advertising Budget')\n",
    "plt.ylabel('Sales')\n",
    "plt.show()"
   ]
  },
  {
   "cell_type": "markdown",
   "id": "9c043fa5",
   "metadata": {},
   "source": [
    "## Consider the simple linear regression model defined as\n",
    "## y = w0 + w1x"
   ]
  },
  {
   "cell_type": "markdown",
   "id": "2619cd4e",
   "metadata": {},
   "source": [
    "Using the train-test split function from sklearn.model_selection, split the database into a training set and a test set."
   ]
  },
  {
   "cell_type": "markdown",
   "id": "ae56e086",
   "metadata": {},
   "source": [
    "80% for the training set and 20% for the test set."
   ]
  },
  {
   "cell_type": "code",
   "execution_count": 12,
   "id": "fbc2f483",
   "metadata": {},
   "outputs": [],
   "source": [
    "from sklearn.model_selection import train_test_split\n",
    "\n",
    "# Split the data into training and testing sets\n",
    "X_train, X_test, y_train, y_test = train_test_split(X, y, test_size=0.2, random_state=42)"
   ]
  },
  {
   "cell_type": "markdown",
   "id": "d17f25d6",
   "metadata": {},
   "source": [
    "Define a function MSE(X, y, W) that returns the mean of the errors between the theoretical and actual values."
   ]
  },
  {
   "cell_type": "markdown",
   "id": "70da0b14",
   "metadata": {},
   "source": [
    "We use MSE for the case of finding the derivative at 0."
   ]
  },
  {
   "cell_type": "code",
   "execution_count": 13,
   "id": "8c273337",
   "metadata": {},
   "outputs": [],
   "source": [
    "def MSE(X,y,w0, w1):\n",
    "    y_pred = w0 + w1 * X\n",
    "    return np.mean((y - y_pred)**2, axis=0)"
   ]
  },
  {
   "cell_type": "markdown",
   "id": "63db443b",
   "metadata": {},
   "source": [
    "- The sum of elements, along with an axis divided by the number of elements, is known as arithmetic mean. \n",
    "- The numpy.mean() function is used to compute the arithmetic mean along the specified axis.\n",
    "- This function returns the average of the array elements."
   ]
  },
  {
   "cell_type": "markdown",
   "id": "81a20b76",
   "metadata": {},
   "source": [
    "Define the Gradient(X, y, W) function."
   ]
  },
  {
   "cell_type": "code",
   "execution_count": 14,
   "id": "b367b932",
   "metadata": {},
   "outputs": [],
   "source": [
    "import numpy as np\n",
    "\n",
    "def Gradient(X, y, w0, w1):\n",
    "    y_pred = w0 + w1 * X\n",
    "    dW0 = -2 * np.mean(y - y_pred)\n",
    "    dW1 = -2 * np.mean((y - y_pred) * X)\n",
    "    return dW0, dW1"
   ]
  },
  {
   "cell_type": "markdown",
   "id": "9c157c0d",
   "metadata": {},
   "source": [
    "Establish a parameter update function MiseJour(grad, W, alpha)."
   ]
  },
  {
   "cell_type": "markdown",
   "id": "679db840",
   "metadata": {},
   "source": [
    "Here's a detailed explanation of this function:\n",
    "\n",
    "grad: It's a vector containing the gradients of the model's parameters. In the context of simple linear regression, this is typically a two-element vector, where the first element represents the partial derivative of the cost function with respect to w0 (the intercept) and the second element represents the partial derivative with respect to w1 (the coefficient of the predictor variable).\n",
    "\n",
    "W: It's a vector containing the current model parameters. In the case of simple linear regression, W = [w0, w1].\n",
    "\n",
    "alpha: It's the learning rate, also known as the \"learning rate.\" It determines the size of the steps the gradient descent algorithm will take to update the parameters. The choice of this value is crucial because too small an alpha can lead to slow convergence, while too large an alpha can prevent convergence.\n",
    "\n",
    "The parameter update function MiseJour(grad, W, alpha) is typically implemented as follows for simple linear regression:\n",
    "\n",
    "Update w0 and w1 as follows:\n",
    "w0_new = w0 - alpha * grad[0]\n",
    "w1_new = w1 - alpha * grad[1]\n",
    "In other words, you subtract the product of the learning rate (alpha) and the partial derivative of the cost function with respect to each parameter (w0 and w1) from the current parameters to get the new parameters. This allows the algorithm to approach the optimal parameter values that minimize the cost function.\n",
    "\n",
    "The parameter update is done iteratively at each step of the gradient descent, contributing to the algorithm's convergence towards the optimal parameters that provide the best model fit to the data."
   ]
  },
  {
   "cell_type": "code",
   "execution_count": 15,
   "id": "077cc0e2",
   "metadata": {},
   "outputs": [],
   "source": [
    "def MiseJour(grad, W, alpha):\n",
    "    return [w - alpha * g for w, g in zip(W, grad)]"
   ]
  },
  {
   "cell_type": "markdown",
   "id": "19a93f07",
   "metadata": {},
   "source": [
    "The code [w - alpha * g for w, g in zip(W, grad)] is a Python list comprehension that implements the parameter update of the model using the gradient and the learning rate (alpha). It updates the parameters by subtracting the product of alpha and the gradient (g) corresponding to each parameter (w) in the W vector. Here's how it works:\n",
    "\n",
    "W is the vector containing the current model parameters. In the context of simple linear regression, W is a vector with two elements, representing w0 and w1.\n",
    "\n",
    "grad is the vector containing the gradients corresponding to each parameter in W. In the context of simple linear regression, grad is also a vector with two elements, corresponding to the partial derivatives of the cost function with respect to w0 and w1.\n",
    "\n",
    "alpha is the learning rate, which determines the size of the update steps.\n",
    "\n",
    "The expression [w - alpha * g for w, g in zip(W, grad)] creates a new vector of updated parameters by simultaneously iterating through the elements of W and grad, performing the update for each pair of parameters.\n",
    "\n",
    "Here's a detailed breakdown of this code:\n",
    "\n",
    "w and g are the corresponding elements of W and grad at each iteration.\n",
    "\n",
    "w - alpha * g calculates the new value of the parameter by subtracting the product of alpha (the learning rate) and g (the gradient) from the current value of w.\n",
    "\n",
    "The list comprehension [w - alpha * g for w, g in zip(W, grad)] iterates through all the elements of W and grad, performs these updates for each element, and returns a new vector of updated parameters."
   ]
  },
  {
   "cell_type": "markdown",
   "id": "74b1191b",
   "metadata": {},
   "source": [
    "Write the function Batch Gradient Descent(X, y, W, N_max, alpha, eps), which returns the best estimated parameters and also displays the evolution of MSE after each iteration."
   ]
  },
  {
   "cell_type": "code",
   "execution_count": 17,
   "id": "8bfcb263",
   "metadata": {},
   "outputs": [],
   "source": [
    "def Batch_Gradient_Descent(X, y, W, N_max, alpha, eps):\n",
    "    errors = []\n",
    "    for _ in range(N_max):\n",
    "        grad = Gradient(X, y, W[0], W[1])\n",
    "        print(\"grad: \", grad)\n",
    "        W = MiseJour(grad, W, alpha)\n",
    "#         print(\"W: \",W)\n",
    "        error = MSE(X, y, W[0], W[1])\n",
    "#         print(\"error: \",error)\n",
    "        errors.append(error)\n",
    "#         print(\"errors: \",errors)\n",
    "        if error < eps:\n",
    "            break\n",
    "    return W, errors"
   ]
  },
  {
   "cell_type": "code",
   "execution_count": 18,
   "id": "caf7cced",
   "metadata": {},
   "outputs": [
    {
     "name": "stdout",
     "output_type": "stream",
     "text": [
      "grad:  (-30.661250000000003, -5385.64225)\n",
      "grad:  (161565.60786371873, 31865411.96050173)\n",
      "grad:  (-955956584.800108, -188538566971.1529)\n",
      "grad:  (5656122830813.761, 1115529003600081.6)\n",
      "grad:  (-3.346566788462675e+16, -6.600267403450073e+18)\n",
      "grad:  (1.9800682560538286e+20, 3.905190242159149e+22)\n",
      "grad:  (-1.1715499933091437e+24, -2.310589843599871e+26)\n",
      "grad:  (6.931727644369361e+27, 1.3671102031626206e+30)\n",
      "grad:  (-4.101305826480038e+31, -8.088801709088608e+33)\n",
      "grad:  (2.4266258493266914e+35, 4.785913596255408e+37)\n",
      "grad:  (-1.435765402960531e+39, -2.831688768570784e+41)\n",
      "grad:  (8.495014972787806e+42, 1.675429595787881e+45)\n",
      "grad:  (-5.026258415134187e+46, -9.913039743625252e+48)\n",
      "grad:  (2.9738939527044305e+50, 5.865263285651968e+52)\n",
      "grad:  (-1.7595683531316935e+54, -3.470309239115003e+56)\n",
      "grad:  (1.0410864807492662e+58, 2.0532831398289523e+60)\n",
      "grad:  (-6.15981219751894e+61, -1.2148691548252326e+64)\n",
      "grad:  (3.6445854412973917e+65, 7.188034785444764e+67)\n",
      "grad:  (-2.1563974051460608e+69, -4.252955462038768e+71)\n",
      "grad:  (1.2758789288433726e+73, 2.516352619593814e+75)\n",
      "grad:  (-7.54901224227846e+76, -1.488854177443283e+79)\n",
      "grad:  (4.4665355423442263e+80, 8.80912613132944e+82)\n",
      "grad:  (-2.6427218701930334e+84, -5.212109041526825e+86)\n",
      "grad:  (1.5636232639337913e+88, 3.083856475178643e+90)\n",
      "grad:  (-9.251513521308913e+91, -1.8246300458662986e+94)\n",
      "grad:  (5.473857060659965e+95, 1.0795816313355479e+98)\n",
      "grad:  (-3.2387253233239336e+99, -6.387577039836411e+101)\n",
      "grad:  (1.916261532535351e+103, 3.7793474115866814e+105)\n",
      "grad:  (-1.1337973722656007e+107, -2.236132224846364e+109)\n",
      "grad:  (6.708356137878408e+110, 1.323055750753827e+113)\n",
      "grad:  (-3.9691432678738685e+114, -7.828144061217315e+116)\n",
      "grad:  (2.3484290274861374e+118, 4.6316898897311775e+120)\n",
      "grad:  (-1.3894985705803817e+122, -2.740438993824806e+124)\n",
      "grad:  (8.22126730272806e+125, 1.6214397029312757e+128)\n",
      "grad:  (-4.864289715294496e+129, -9.593596924310653e+131)\n",
      "grad:  (2.8780616859967893e+133, 5.676258067429583e+135)\n",
      "grad:  (-1.7028671302941082e+137, -3.35848023450022e+139)\n",
      "grad:  (1.007537982088729e+141, 1.9871171027705525e+143)\n",
      "grad:  (-5.9613152858033106e+144, -1.1757205951550992e+147)\n",
      "grad:  (3.527140471973057e+148, 6.956403907673848e+150)\n",
      "grad:  (-2.0869085617158189e+152, -4.115906068679204e+154)\n",
      "grad:  (1.2347643592789851e+156, 2.435264396810319e+158)\n",
      "grad:  (-7.305749043897297e+159, -1.4408765854744179e+162)\n",
      "grad:  (4.322603636176613e+163, 8.52525638402016e+165)\n",
      "grad:  (-2.557561460600035e+167, -5.0441513968627745e+169)\n",
      "grad:  (1.513236275008613e+171, 2.984480720387976e+173)\n",
      "grad:  (-8.953388058423072e+174, -1.7658322420511303e+177)\n",
      "grad:  (5.297464715102512e+178, 1.0447926454227408e+181)\n",
      "grad:  (-3.1343589962411165e+182, -6.181740518348978e+184)\n",
      "grad:  (1.8545109492300804e+186, 3.657559804197845e+188)\n",
      "grad:  (-1.097261310825828e+190, -2.1640739661548776e+192)\n",
      "grad:  (6.492182668077858e+193, 1.2804209313581948e+196)\n",
      "grad:  (-3.84123958257204e+197, -7.575885977562992e+199)\n",
      "grad:  (2.2727520596839223e+201, 4.482435966128371e+203)\n",
      "grad:  (-1.344722664067424e+205, -2.652129698090367e+207)\n",
      "grad:  (7.956341016397858e+208, 1.5691896077587966e+211)\n",
      "grad:  (-4.707540376968085e+212, -9.284447992385874e+214)\n",
      "grad:  (2.785317566845309e+216, 5.493343449198282e+218)\n",
      "grad:  (-1.647993076412794e+220, -3.2502548644354024e+222)\n",
      "grad:  (9.750705672605045e+223, 1.9230832336412104e+226)\n",
      "grad:  (-5.76921483922286e+227, -1.1378335785228806e+230)\n",
      "grad:  (3.4134801088931814e+231, 6.732237220761553e+233)\n",
      "grad:  (-2.019658962012059e+235, -3.983273024465049e+237)\n",
      "grad:  (1.194974686452252e+239, 2.356789202035296e+241)\n",
      "grad:  (-7.070324882172515e+242, -1.3944450477572085e+245)\n",
      "grad:  (4.1833098647370586e+246, 8.250534199390324e+248)\n",
      "grad:  (-2.4751453032281445e+250, -4.881606104506848e+252)\n",
      "grad:  (1.4644729819643458e+254, 2.888307300310258e+256)\n",
      "grad:  (-8.664869541624075e+257, -1.7089291684807686e+260)\n",
      "grad:  (5.126756525931762e+261, 1.0111247174324773e+264)\n",
      "grad:  (-3.0333558226033627e+265, -5.982536977303705e+267)\n",
      "grad:  (1.794750248033174e+269, 3.5396967424244825e+271)\n",
      "grad:  (-1.0619026059562712e+273, -2.0943377493301254e+275)\n",
      "grad:  (6.282975281783477e+276, 1.2391599980016517e+279)\n",
      "grad:  (-3.717457530481638e+280, -7.33175678630913e+282)\n",
      "grad:  (2.19951374486577e+284, 4.337991676642093e+286)\n",
      "grad:  (-1.3013896390705087e+288, -2.5666661258807673e+290)\n",
      "grad:  (7.699951849054825e+291, 1.5186232461476696e+294)\n",
      "grad:  (-4.555842208802966e+295, -8.985261232403934e+297)\n",
      "grad:  (2.695562081217232e+299, 5.316323164375587e+301)\n",
      "grad:  (-1.5948873118687984e+303, -3.1455170035735106e+305)\n",
      "grad:  (inf, inf)\n",
      "grad:  (-inf, -inf)\n",
      "grad:  (nan, nan)\n",
      "grad:  (nan, nan)\n",
      "grad:  (nan, nan)\n",
      "grad:  (nan, nan)\n",
      "grad:  (nan, nan)\n",
      "grad:  (nan, nan)\n",
      "grad:  (nan, nan)\n",
      "grad:  (nan, nan)\n",
      "grad:  (nan, nan)\n",
      "grad:  (nan, nan)\n",
      "grad:  (nan, nan)\n",
      "grad:  (nan, nan)\n",
      "grad:  (nan, nan)\n",
      "grad:  (nan, nan)\n",
      "grad:  (nan, nan)\n",
      "grad:  (nan, nan)\n",
      "grad:  (nan, nan)\n"
     ]
    },
    {
     "name": "stderr",
     "output_type": "stream",
     "text": [
      "C:\\Users\\R1304\\AppData\\Local\\Temp\\ipykernel_22968\\2432369924.py:3: RuntimeWarning: overflow encountered in square\n",
      "  return np.mean((y - y_pred)**2, axis=0)\n",
      "C:\\Users\\R1304\\AppData\\Roaming\\Python\\Python310\\site-packages\\numpy\\core\\_methods.py:118: RuntimeWarning: overflow encountered in reduce\n",
      "  ret = umr_sum(arr, axis, dtype, out, keepdims, where=where)\n",
      "C:\\Users\\R1304\\AppData\\Local\\Temp\\ipykernel_22968\\1708837584.py:6: RuntimeWarning: overflow encountered in multiply\n",
      "  dW1 = -2 * np.mean((y - y_pred) * X)\n",
      "C:\\Users\\R1304\\AppData\\Local\\Temp\\ipykernel_22968\\1406304670.py:2: RuntimeWarning: invalid value encountered in scalar subtract\n",
      "  return [w - alpha * g for w, g in zip(W, grad)]\n"
     ]
    }
   ],
   "source": [
    "# Initialisation des paramètres et appel de la descente de gradient\n",
    "initial_w0, initial_w1 = 0, 0\n",
    "alpha = 0.1\n",
    "N_max = 100\n",
    "eps = 0.0001\n",
    "\n",
    "W, errors = Batch_Gradient_Descent(X_train, y_train, [initial_w0, initial_w1], N_max, alpha, eps)"
   ]
  },
  {
   "cell_type": "code",
   "execution_count": 19,
   "id": "22df474a",
   "metadata": {},
   "outputs": [
    {
     "data": {
      "text/plain": [
       "[nan, nan]"
      ]
     },
     "execution_count": 19,
     "metadata": {},
     "output_type": "execute_result"
    }
   ],
   "source": [
    "W"
   ]
  },
  {
   "cell_type": "code",
   "execution_count": 20,
   "id": "ef762bb3",
   "metadata": {},
   "outputs": [
    {
     "data": {
      "text/plain": [
       "[8579583096.280955,\n",
       " 3.003499148846975e+17,\n",
       " 1.051450525316459e+25,\n",
       " 3.6808673896667184e+32,\n",
       " 1.2885803386929734e+40,\n",
       " 4.51100002659004e+47,\n",
       " 1.5791891765581164e+55,\n",
       " 5.528349458342716e+62,\n",
       " 1.9353379688284252e+70,\n",
       " 6.775138007849036e+77,\n",
       " 2.3718077030849598e+85,\n",
       " 8.303110244981005e+92,\n",
       " 2.9067128692868995e+100,\n",
       " 1.017568050428482e+108,\n",
       " 3.562253252440605e+115,\n",
       " 1.2470564724570755e+123,\n",
       " 4.3656352743354395e+130,\n",
       " 1.528300583771508e+138,\n",
       " 5.350201122130814e+145,\n",
       " 1.8729726567669363e+153,\n",
       " 6.556812525207389e+160,\n",
       " 2.2953773689855957e+168,\n",
       " 8.035546610179447e+175,\n",
       " 2.8130454798768897e+183,\n",
       " 9.847774215921183e+190,\n",
       " 3.447461397318263e+198,\n",
       " 1.2068706923423145e+206,\n",
       " 4.2249548295677496e+213,\n",
       " 1.4790518508029887e+221,\n",
       " 5.1777935282388745e+228,\n",
       " 1.812617036144963e+236,\n",
       " 6.3455224736249346e+243,\n",
       " 2.2214099647278653e+251,\n",
       " 7.776605081619528e+258,\n",
       " 2.722396475919258e+266,\n",
       " 9.530434546065585e+273,\n",
       " 3.336368653143018e+281,\n",
       " 1.1679798791830201e+289,\n",
       " 4.088807742787243e+296,\n",
       " 1.4313901339782567e+304,\n",
       " inf,\n",
       " inf,\n",
       " inf,\n",
       " inf,\n",
       " inf,\n",
       " inf,\n",
       " inf,\n",
       " inf,\n",
       " inf,\n",
       " inf,\n",
       " inf,\n",
       " inf,\n",
       " inf,\n",
       " inf,\n",
       " inf,\n",
       " inf,\n",
       " inf,\n",
       " inf,\n",
       " inf,\n",
       " inf,\n",
       " inf,\n",
       " inf,\n",
       " inf,\n",
       " inf,\n",
       " inf,\n",
       " inf,\n",
       " inf,\n",
       " inf,\n",
       " inf,\n",
       " inf,\n",
       " inf,\n",
       " inf,\n",
       " inf,\n",
       " inf,\n",
       " inf,\n",
       " inf,\n",
       " inf,\n",
       " inf,\n",
       " inf,\n",
       " inf,\n",
       " inf,\n",
       " inf,\n",
       " nan,\n",
       " nan,\n",
       " nan,\n",
       " nan,\n",
       " nan,\n",
       " nan,\n",
       " nan,\n",
       " nan,\n",
       " nan,\n",
       " nan,\n",
       " nan,\n",
       " nan,\n",
       " nan,\n",
       " nan,\n",
       " nan,\n",
       " nan,\n",
       " nan,\n",
       " nan]"
      ]
     },
     "execution_count": 20,
     "metadata": {},
     "output_type": "execute_result"
    }
   ],
   "source": [
    "errors"
   ]
  },
  {
   "cell_type": "markdown",
   "id": "9a94aa44",
   "metadata": {},
   "source": [
    "Plot the evolution of the MSE error after each iteration."
   ]
  },
  {
   "cell_type": "code",
   "execution_count": 23,
   "id": "3f1b96f4",
   "metadata": {},
   "outputs": [
    {
     "data": {
      "image/png": "[encoded data removed]",
      "text/plain": [
       "<Figure size 640x480 with 1 Axes>"
      ]
     },
     "metadata": {},
     "output_type": "display_data"
    }
   ],
   "source": [
    "plt.plot(errors)\n",
    "plt.xlabel('Iterations')\n",
    "plt.ylabel('MSE')\n",
    "plt.title('Évolution de l\\'erreur MSE')\n",
    "plt.show()"
   ]
  },
  {
   "cell_type": "markdown",
   "id": "bf82bf0e",
   "metadata": {},
   "source": [
    "Provide the error of this model."
   ]
  },
  {
   "cell_type": "code",
   "execution_count": 25,
   "id": "e99bd50c",
   "metadata": {},
   "outputs": [
    {
     "name": "stdout",
     "output_type": "stream",
     "text": [
      "Erreur sur l'ensemble de test (MSE) : nan\n"
     ]
    }
   ],
   "source": [
    "final_w0, final_w1 = W[0], W[1]\n",
    "test_error = MSE(X_test, y_test, final_w0, final_w1)\n",
    "print(f'Erreur sur l\\'ensemble de test (MSE) : {test_error}')"
   ]
  }
 ],
 "metadata": {
  "kernelspec": {
   "display_name": "Python 3 (ipykernel)",
   "language": "python",
   "name": "python3"
  },
  "language_info": {
   "codemirror_mode": {
    "name": "ipython",
    "version": 3
   },
   "file_extension": ".py",
   "mimetype": "text/x-python",
   "name": "python",
   "nbconvert_exporter": "python",
   "pygments_lexer": "ipython3",
   "version": "3.10.10"
  }
 },
 "nbformat": 4,
 "nbformat_minor": 5
}
