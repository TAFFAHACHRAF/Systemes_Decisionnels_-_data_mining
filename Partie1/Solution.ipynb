{
 "cells": [
  {
   "cell_type": "markdown",
   "id": "edd41b32",
   "metadata": {},
   "source": [
    "In the first and second parts of this workshop, we will be using the Advertising database. The main objective is to create a regression model to predict the Sales variable.\n",
    "\n",
    "The third part addresses the classification problem by applying logistic regression to the diabetescsv.csv database.\n",
    "\n",
    "To do this, we start by learning how to:\n",
    "\n",
    "Retrieve data from a CSV file and explore its main characteristics.\n",
    "Visualize the data in the form of graphs."
   ]
  },
  {
   "cell_type": "markdown",
   "id": "b1dc9a7e",
   "metadata": {},
   "source": [
    "# Part 1: Simple Linear Regression"
   ]
  },
  {
   "cell_type": "markdown",
   "id": "cecfdd29",
   "metadata": {},
   "source": [
    "## Retrieve data from the advertising.csv file and explore its main characteristics."
   ]
  },
  {
   "cell_type": "code",
   "execution_count": 47,
   "id": "e8a50e53",
   "metadata": {},
   "outputs": [],
   "source": [
    "import pandas as pd"
   ]
  },
  {
   "cell_type": "code",
   "execution_count": 48,
   "id": "0d900b96",
   "metadata": {},
   "outputs": [],
   "source": [
    "data = pd.read_csv(\"./dataset/advertising.csv\")"
   ]
  },
  {
   "cell_type": "code",
   "execution_count": 49,
   "id": "f83990e8",
   "metadata": {},
   "outputs": [
    {
     "data": {
      "text/html": [
       "<div>\n",
       "<style scoped>\n",
       "    .dataframe tbody tr th:only-of-type {\n",
       "        vertical-align: middle;\n",
       "    }\n",
       "\n",
       "    .dataframe tbody tr th {\n",
       "        vertical-align: top;\n",
       "    }\n",
       "\n",
       "    .dataframe thead th {\n",
       "        text-align: right;\n",
       "    }\n",
       "</style>\n",
       "<table border=\"1\" class=\"dataframe\">\n",
       "  <thead>\n",
       "    <tr style=\"text-align: right;\">\n",
       "      <th></th>\n",
       "      <th>TV</th>\n",
       "      <th>Radio</th>\n",
       "      <th>Newspaper</th>\n",
       "      <th>Sales</th>\n",
       "    </tr>\n",
       "  </thead>\n",
       "  <tbody>\n",
       "    <tr>\n",
       "      <th>0</th>\n",
       "      <td>230.1</td>\n",
       "      <td>37.8</td>\n",
       "      <td>69.2</td>\n",
       "      <td>22.1</td>\n",
       "    </tr>\n",
       "    <tr>\n",
       "      <th>1</th>\n",
       "      <td>44.5</td>\n",
       "      <td>39.3</td>\n",
       "      <td>45.1</td>\n",
       "      <td>10.4</td>\n",
       "    </tr>\n",
       "    <tr>\n",
       "      <th>2</th>\n",
       "      <td>17.2</td>\n",
       "      <td>45.9</td>\n",
       "      <td>69.3</td>\n",
       "      <td>12.0</td>\n",
       "    </tr>\n",
       "    <tr>\n",
       "      <th>3</th>\n",
       "      <td>151.5</td>\n",
       "      <td>41.3</td>\n",
       "      <td>58.5</td>\n",
       "      <td>16.5</td>\n",
       "    </tr>\n",
       "    <tr>\n",
       "      <th>4</th>\n",
       "      <td>180.8</td>\n",
       "      <td>10.8</td>\n",
       "      <td>58.4</td>\n",
       "      <td>17.9</td>\n",
       "    </tr>\n",
       "    <tr>\n",
       "      <th>5</th>\n",
       "      <td>8.7</td>\n",
       "      <td>48.9</td>\n",
       "      <td>75.0</td>\n",
       "      <td>7.2</td>\n",
       "    </tr>\n",
       "    <tr>\n",
       "      <th>6</th>\n",
       "      <td>57.5</td>\n",
       "      <td>32.8</td>\n",
       "      <td>23.5</td>\n",
       "      <td>11.8</td>\n",
       "    </tr>\n",
       "  </tbody>\n",
       "</table>\n",
       "</div>"
      ],
      "text/plain": [
       "      TV  Radio  Newspaper  Sales\n",
       "0  230.1   37.8       69.2   22.1\n",
       "1   44.5   39.3       45.1   10.4\n",
       "2   17.2   45.9       69.3   12.0\n",
       "3  151.5   41.3       58.5   16.5\n",
       "4  180.8   10.8       58.4   17.9\n",
       "5    8.7   48.9       75.0    7.2\n",
       "6   57.5   32.8       23.5   11.8"
      ]
     },
     "execution_count": 49,
     "metadata": {},
     "output_type": "execute_result"
    }
   ],
   "source": [
    "data"
   ]
  },
  {
   "cell_type": "code",
   "execution_count": 50,
   "id": "1815decd",
   "metadata": {},
   "outputs": [
    {
     "data": {
      "text/html": [
       "<div>\n",
       "<style scoped>\n",
       "    .dataframe tbody tr th:only-of-type {\n",
       "        vertical-align: middle;\n",
       "    }\n",
       "\n",
       "    .dataframe tbody tr th {\n",
       "        vertical-align: top;\n",
       "    }\n",
       "\n",
       "    .dataframe thead th {\n",
       "        text-align: right;\n",
       "    }\n",
       "</style>\n",
       "<table border=\"1\" class=\"dataframe\">\n",
       "  <thead>\n",
       "    <tr style=\"text-align: right;\">\n",
       "      <th></th>\n",
       "      <th>TV</th>\n",
       "      <th>Radio</th>\n",
       "      <th>Newspaper</th>\n",
       "      <th>Sales</th>\n",
       "    </tr>\n",
       "  </thead>\n",
       "  <tbody>\n",
       "    <tr>\n",
       "      <th>0</th>\n",
       "      <td>230.1</td>\n",
       "      <td>37.8</td>\n",
       "      <td>69.2</td>\n",
       "      <td>22.1</td>\n",
       "    </tr>\n",
       "    <tr>\n",
       "      <th>1</th>\n",
       "      <td>44.5</td>\n",
       "      <td>39.3</td>\n",
       "      <td>45.1</td>\n",
       "      <td>10.4</td>\n",
       "    </tr>\n",
       "    <tr>\n",
       "      <th>2</th>\n",
       "      <td>17.2</td>\n",
       "      <td>45.9</td>\n",
       "      <td>69.3</td>\n",
       "      <td>12.0</td>\n",
       "    </tr>\n",
       "    <tr>\n",
       "      <th>3</th>\n",
       "      <td>151.5</td>\n",
       "      <td>41.3</td>\n",
       "      <td>58.5</td>\n",
       "      <td>16.5</td>\n",
       "    </tr>\n",
       "    <tr>\n",
       "      <th>4</th>\n",
       "      <td>180.8</td>\n",
       "      <td>10.8</td>\n",
       "      <td>58.4</td>\n",
       "      <td>17.9</td>\n",
       "    </tr>\n",
       "  </tbody>\n",
       "</table>\n",
       "</div>"
      ],
      "text/plain": [
       "      TV  Radio  Newspaper  Sales\n",
       "0  230.1   37.8       69.2   22.1\n",
       "1   44.5   39.3       45.1   10.4\n",
       "2   17.2   45.9       69.3   12.0\n",
       "3  151.5   41.3       58.5   16.5\n",
       "4  180.8   10.8       58.4   17.9"
      ]
     },
     "execution_count": 50,
     "metadata": {},
     "output_type": "execute_result"
    }
   ],
   "source": [
    "data.head()"
   ]
  },
  {
   "cell_type": "code",
   "execution_count": 51,
   "id": "6c319996",
   "metadata": {},
   "outputs": [
    {
     "data": {
      "text/plain": [
       "TV           float64\n",
       "Radio        float64\n",
       "Newspaper    float64\n",
       "Sales        float64\n",
       "dtype: object"
      ]
     },
     "execution_count": 51,
     "metadata": {},
     "output_type": "execute_result"
    }
   ],
   "source": [
    "data.dtypes"
   ]
  },
  {
   "cell_type": "code",
   "execution_count": 52,
   "id": "3f7ebb0d",
   "metadata": {},
   "outputs": [
    {
     "data": {
      "text/plain": [
       "TV           0\n",
       "Radio        0\n",
       "Newspaper    0\n",
       "Sales        0\n",
       "dtype: int64"
      ]
     },
     "execution_count": 52,
     "metadata": {},
     "output_type": "execute_result"
    }
   ],
   "source": [
    "#Checking null values\n",
    "data.isnull().sum()"
   ]
  },
  {
   "cell_type": "code",
   "execution_count": 30,
   "id": "9160e2da",
   "metadata": {},
   "outputs": [],
   "source": [
    "# test_data = test_data.dropna()"
   ]
  },
  {
   "cell_type": "markdown",
   "id": "29506857",
   "metadata": {},
   "source": [
    "## Initialize X (predictors, independent variable) with the TV variable and y (target, dependent variable)."
   ]
  },
  {
   "cell_type": "code",
   "execution_count": 53,
   "id": "b65ab664",
   "metadata": {},
   "outputs": [],
   "source": [
    "X = data['TV'].values\n",
    "y = data['Sales'].values"
   ]
  },
  {
   "cell_type": "code",
   "execution_count": 54,
   "id": "9b9be41b",
   "metadata": {},
   "outputs": [
    {
     "data": {
      "text/plain": [
       "array([230.1,  44.5,  17.2, 151.5, 180.8,   8.7,  57.5])"
      ]
     },
     "execution_count": 54,
     "metadata": {},
     "output_type": "execute_result"
    }
   ],
   "source": [
    "X"
   ]
  },
  {
   "cell_type": "code",
   "execution_count": 55,
   "id": "6f2e9abe",
   "metadata": {},
   "outputs": [
    {
     "data": {
      "text/plain": [
       "array([22.1, 10.4, 12. , 16.5, 17.9,  7.2, 11.8])"
      ]
     },
     "execution_count": 55,
     "metadata": {},
     "output_type": "execute_result"
    }
   ],
   "source": [
    "y"
   ]
  },
  {
   "cell_type": "code",
   "execution_count": 56,
   "id": "4fff42f7",
   "metadata": {},
   "outputs": [
    {
     "data": {
      "text/plain": [
       "230.1"
      ]
     },
     "execution_count": 56,
     "metadata": {},
     "output_type": "execute_result"
    }
   ],
   "source": [
    "X.max()"
   ]
  },
  {
   "cell_type": "markdown",
   "id": "c216ee7c",
   "metadata": {},
   "source": [
    "## Why is this a regression problem?"
   ]
  },
  {
   "cell_type": "markdown",
   "id": "90423baa",
   "metadata": {},
   "source": [
    "Supervised learning: We have the target column.\n",
    "It's a prediction task.\n",
    "(R) Among the assumptions of regression, X must be deterministic.\n",
    "It involves continuous variables."
   ]
  },
  {
   "cell_type": "markdown",
   "id": "8ab9c361",
   "metadata": {},
   "source": [
    "Visualize the database with Matplotlib."
   ]
  },
  {
   "cell_type": "code",
   "execution_count": 57,
   "id": "72710c31",
   "metadata": {},
   "outputs": [
    {
     "data": {
      "image/png": "[encoded data removed]",
      "text/plain": [
       "<Figure size 640x480 with 1 Axes>"
      ]
     },
     "metadata": {},
     "output_type": "display_data"
    }
   ],
   "source": [
    "import matplotlib.pyplot as plt\n",
    "\n",
    "plt.plot(X,y,\"b*\")\n",
    "plt.show()"
   ]
  },
  {
   "cell_type": "code",
   "execution_count": 58,
   "id": "d4abcc79",
   "metadata": {},
   "outputs": [
    {
     "data": {
      "image/png": "[encoded data removed]",
      "text/plain": [
       "<Figure size 640x480 with 1 Axes>"
      ]
     },
     "metadata": {},
     "output_type": "display_data"
    }
   ],
   "source": [
    "plt.scatter(X, y)\n",
    "plt.xlabel('TV Advertising Budget')\n",
    "plt.ylabel('Sales')\n",
    "plt.show()"
   ]
  },
  {
   "cell_type": "markdown",
   "id": "9c043fa5",
   "metadata": {},
   "source": [
    "## Consider the simple linear regression model defined as\n",
    "## y = w0 + w1x"
   ]
  },
  {
   "cell_type": "markdown",
   "id": "2619cd4e",
   "metadata": {},
   "source": [
    "Using the train-test split function from sklearn.model_selection, split the database into a training set and a test set."
   ]
  },
  {
   "cell_type": "markdown",
   "id": "ae56e086",
   "metadata": {},
   "source": [
    "80% for the training set and 20% for the test set."
   ]
  },
  {
   "cell_type": "code",
   "execution_count": 59,
   "id": "fbc2f483",
   "metadata": {},
   "outputs": [],
   "source": [
    "from sklearn.model_selection import train_test_split\n",
    "\n",
    "# Split the data into training and testing sets\n",
    "X_train, X_test, y_train, y_test = train_test_split(X, y, test_size=0.2, random_state=42)"
   ]
  },
  {
   "cell_type": "markdown",
   "id": "d17f25d6",
   "metadata": {},
   "source": [
    "Define a function MSE(X, y, W) that returns the mean of the errors between the theoretical and actual values."
   ]
  },
  {
   "cell_type": "markdown",
   "id": "70da0b14",
   "metadata": {},
   "source": [
    "We use MSE for the case of finding the derivative at 0."
   ]
  },
  {
   "cell_type": "code",
   "execution_count": 60,
   "id": "8c273337",
   "metadata": {},
   "outputs": [],
   "source": [
    "def MSE(X,y,w0, w1):\n",
    "    y_pred = w0 + w1 * X\n",
    "    return np.mean((y - y_pred)**2, axis=0)"
   ]
  },
  {
   "cell_type": "markdown",
   "id": "63db443b",
   "metadata": {},
   "source": [
    "- The sum of elements, along with an axis divided by the number of elements, is known as arithmetic mean. \n",
    "- The numpy.mean() function is used to compute the arithmetic mean along the specified axis.\n",
    "- This function returns the average of the array elements."
   ]
  },
  {
   "cell_type": "markdown",
   "id": "81a20b76",
   "metadata": {},
   "source": [
    "Define the Gradient(X, y, W) function."
   ]
  },
  {
   "cell_type": "code",
   "execution_count": 61,
   "id": "b367b932",
   "metadata": {},
   "outputs": [],
   "source": [
    "import numpy as np\n",
    "\n",
    "def Gradient(X, y, w0, w1):\n",
    "    y_pred = w0 + w1 * X\n",
    "    dW0 = -2 * np.mean(y - y_pred)\n",
    "    dW1 = -2 * np.mean((y - y_pred) * X)\n",
    "    return dW0, dW1"
   ]
  },
  {
   "cell_type": "markdown",
   "id": "9c157c0d",
   "metadata": {},
   "source": [
    "Establish a parameter update function MiseJour(grad, W, alpha)."
   ]
  },
  {
   "cell_type": "markdown",
   "id": "679db840",
   "metadata": {},
   "source": [
    "Here's a detailed explanation of this function:\n",
    "\n",
    "grad: It's a vector containing the gradients of the model's parameters. In the context of simple linear regression, this is typically a two-element vector, where the first element represents the partial derivative of the cost function with respect to w0 (the intercept) and the second element represents the partial derivative with respect to w1 (the coefficient of the predictor variable).\n",
    "\n",
    "W: It's a vector containing the current model parameters. In the case of simple linear regression, W = [w0, w1].\n",
    "\n",
    "alpha: It's the learning rate, also known as the \"learning rate.\" It determines the size of the steps the gradient descent algorithm will take to update the parameters. The choice of this value is crucial because too small an alpha can lead to slow convergence, while too large an alpha can prevent convergence.\n",
    "\n",
    "The parameter update function MiseJour(grad, W, alpha) is typically implemented as follows for simple linear regression:\n",
    "\n",
    "Update w0 and w1 as follows:\n",
    "w0_new = w0 - alpha * grad[0]\n",
    "w1_new = w1 - alpha * grad[1]\n",
    "In other words, you subtract the product of the learning rate (alpha) and the partial derivative of the cost function with respect to each parameter (w0 and w1) from the current parameters to get the new parameters. This allows the algorithm to approach the optimal parameter values that minimize the cost function.\n",
    "\n",
    "The parameter update is done iteratively at each step of the gradient descent, contributing to the algorithm's convergence towards the optimal parameters that provide the best model fit to the data."
   ]
  },
  {
   "cell_type": "code",
   "execution_count": 62,
   "id": "077cc0e2",
   "metadata": {},
   "outputs": [],
   "source": [
    "def MiseJour(grad, W, alpha):\n",
    "    return [w - alpha * g for w, g in zip(W, grad)]"
   ]
  },
  {
   "cell_type": "markdown",
   "id": "19a93f07",
   "metadata": {},
   "source": [
    "\n",
    "The code [w - alpha * g for w, g in zip(W, grad)] is a Python list comprehension that implements the parameter update of the model using the gradient and the learning rate (alpha). It updates the parameters by subtracting the product of alpha and the gradient (g) corresponding to each parameter (w) in the W vector. Here's how it works:\n",
    "\n",
    "W is the vector containing the current model parameters. In the context of simple linear regression, W is a vector with two elements, representing w0 and w1.\n",
    "\n",
    "grad is the vector containing the gradients corresponding to each parameter in W. In the context of simple linear regression, grad is also a vector with two elements, corresponding to the partial derivatives of the cost function with respect to w0 and w1.\n",
    "\n",
    "alpha is the learning rate, which determines the size of the update steps.\n",
    "\n",
    "The expression [w - alpha * g for w, g in zip(W, grad)] creates a new vector of updated parameters by simultaneously iterating through the elements of W and grad, performing the update for each pair of parameters.\n",
    "\n",
    "Here's a detailed breakdown of this code:\n",
    "\n",
    "w and g are the corresponding elements of W and grad at each iteration.\n",
    "\n",
    "w - alpha * g calculates the new value of the parameter by subtracting the product of alpha (the learning rate) and g (the gradient) from the current value of w.\n",
    "\n",
    "The list comprehension [w - alpha * g for w, g in zip(W, grad)] iterates through all the elements of W and grad, performs these updates for each element, and returns a new vector of updated parameters."
   ]
  },
  {
   "cell_type": "markdown",
   "id": "74b1191b",
   "metadata": {},
   "source": [
    "Write the function Batch Gradient Descent(X, y, W, N_max, alpha, eps), which returns the best estimated parameters and also displays the evolution of MSE after each iteration."
   ]
  },
  {
   "cell_type": "code",
   "execution_count": 63,
   "id": "8bfcb263",
   "metadata": {},
   "outputs": [],
   "source": [
    "def Batch_Gradient_Descent(X, y, W, N_max, alpha, eps):\n",
    "    errors = []\n",
    "    for _ in range(N_max):\n",
    "        grad = Gradient(X, y, W[0], W[1])\n",
    "        print(\"grad: \", grad)\n",
    "        W = MiseJour(grad, W, alpha)\n",
    "#         print(\"W: \",W)\n",
    "        error = MSE(X, y, W[0], W[1])\n",
    "#         print(\"error: \",error)\n",
    "        errors.append(error)\n",
    "#         print(\"errors: \",errors)\n",
    "        if error < eps:\n",
    "            break\n",
    "    return W, errors"
   ]
  },
  {
   "cell_type": "code",
   "execution_count": 64,
   "id": "caf7cced",
   "metadata": {},
   "outputs": [
    {
     "name": "stdout",
     "output_type": "stream",
     "text": [
      "grad:  (-26.159999999999997, -2673.4440000000004)\n",
      "grad:  (44433.09883200001, 6341167.240459202)\n",
      "grad:  (-105405382.39529002, -15040381944.391323)\n",
      "grad:  (250007146665.42276, 35673730428086.375)\n",
      "grad:  (-592982783840887.9, -8.461321310571126e+16)\n",
      "grad:  (1.4064741212946944e+18, 2.0069097753891848e+20)\n",
      "grad:  (-3.335964395220101e+21, -4.760115706184908e+23)\n",
      "grad:  (7.912451624728091e+24, 1.1290343897933435e+27)\n",
      "grad:  (-1.8767253872183936e+28, -2.6779152693279316e+30)\n",
      "grad:  (4.45133612952871e+31, 6.351649032597046e+33)\n",
      "grad:  (-1.0557960942498746e+35, -1.506524343595676e+37)\n",
      "grad:  (2.50420404165549e+38, 3.573269848819697e+40)\n",
      "grad:  (-5.939629741384069e+41, -8.475307728522647e+43)\n",
      "grad:  (1.4087989987194351e+45, 2.0102271625772257e+47)\n",
      "grad:  (-3.3414786867344354e+48, -4.767984095213122e+50)\n",
      "grad:  (7.925530770570995e+51, 1.1309006641348649e+54)\n",
      "grad:  (-1.8798275818618077e+55, -2.6823418170053935e+57)\n",
      "grad:  (4.458694111251079e+58, 6.3621481987190394e+60)\n",
      "grad:  (-1.057541306954102e+62, -1.5090146023094468e+64)\n",
      "grad:  (2.508343447674585e+65, 3.579176402149224e+67)\n",
      "grad:  (-5.949447846735591e+68, -8.489317265781414e+70)\n",
      "grad:  (1.4111277191263946e+72, 2.0135500333489773e+74)\n",
      "grad:  (-3.3470020932773783e+75, -4.775865490552467e+77)\n",
      "grad:  (7.938631536016021e+78, 1.1327700233956316e+81)\n",
      "grad:  (-1.882934904379375e+82, -2.686775681689696e+84)\n",
      "grad:  (4.466064255590123e+85, 6.372664719781255e+87)\n",
      "grad:  (-1.0592894044647801e+89, -1.5115089773778507e+91)\n",
      "grad:  (2.5124896960603184e+92, 3.585092718909364e+94)\n",
      "grad:  (-5.959282181245644e+95, -8.503349960563249e+97)\n",
      "grad:  (1.4134602888679576e+99, 2.0168783967687115e+101)\n",
      "grad:  (-3.35253462991592e+102, -4.7837599137021557e+104)\n",
      "grad:  (7.951753956800012e+105, 1.1346424726749628e+108)\n",
      "grad:  (-1.8860473632473845e+109, -2.691216875475724e+111)\n",
      "grad:  (4.473446582650436e+112, 6.383198624471108e+114)\n",
      "grad:  (-1.0610403915504437e+116, -1.5140074756051513e+118)\n",
      "grad:  (2.5166427981230055e+119, 3.5910188152389035e+121)\n",
      "grad:  (-5.969132771740751e+122, -8.517405851147132e+124)\n",
      "grad:  (1.415796714307006e+126, 2.0202122619156774e+128)\n",
      "grad:  (-3.358076311741944e+129, -4.7916673861969264e+131)\n",
      "grad:  (7.964898068718856e+132, 1.1365180170806041e+135)\n",
      "grad:  (-1.8891649669561311e+136, -2.6956654104783553e+138)\n",
      "grad:  (4.480841112569845e+139, 6.393749941523432e+141)\n",
      "grad:  (-1.0627942729875109e+143, -1.516510103806859e+145)\n",
      "grad:  (2.5208027651916548e+146, 3.5969547073032977e+148)\n",
      "grad:  (-5.978999645091771e+149, -8.53148497587533e+151)\n",
      "grad:  (1.418137001816943e+153, 2.0235516378841379e+155)\n",
      "grad:  (-3.363627153872291e+156, -4.799587929607126e+158)\n",
      "grad:  (7.978063907627631e+159, 1.1383966617287471e+162)\n",
      "grad:  (-1.8922877240099504e+163, -2.7001212988324945e+165)\n",
      "grad:  (4.4882478655194646e+166, 6.404318699720563e+168)\n",
      "grad:  (-1.0645510535602938e+170, -1.519016868809749e+172)\n",
      "grad:  (2.5249696086140026e+173, 3.602900411294728e+175)\n",
      "grad:  (-5.988882828213983e+176, -8.545587373153475e+178)\n",
      "grad:  (1.4204811577817028e+180, 2.0268965337833837e+182)\n",
      "grad:  (-3.3691871714487854e+183, -4.8075215655387485e+185)\n",
      "grad:  (7.991251509440672e+186, 1.140278411744039e+189)\n",
      "grad:  (-1.8954156429272326e+190, -2.7045845526931064e+192)\n",
      "grad:  (4.495666861703756e+193, 6.414904927892414e+195)\n",
      "grad:  (-1.0663107380610143e+197, -1.521527777451883e+199)\n",
      "grad:  (2.529143339756543e+200, 3.6088559434321415e+202)\n",
      "grad:  (-5.998782348067161e+203, -8.559713081450699e+205)\n",
      "grad:  (1.4228291885957773e+207, 2.0302469587377677e+209)\n",
      "grad:  (-3.374756379638284e+210, -4.815468315633513e+212)\n",
      "grad:  (8.004460910131696e+213, 1.1421632722595982e+216)\n",
      "grad:  (-1.8985487322404494e+217, -2.7090551842352444e+219)\n",
      "grad:  (4.5030981213605725e+220, 6.425508654916549e+222)\n",
      "grad:  (-1.0680733312898147e+224, -1.524042836582625e+226)\n",
      "grad:  (2.5333239700045576e+227, 3.6148213199612906e+229)\n",
      "grad:  (-6.008698231655632e+230, -8.573862139299702e+232)\n",
      "grad:  (1.4251811006642219e+234, 2.0336029218867184e+236)\n",
      "grad:  (-3.380334793632705e+237, -4.823428201568894e+239)\n",
      "grad:  (8.017692145733852e+240, 1.1440512484170266e+243)\n",
      "grad:  (-1.9016870004961732e+244, -2.7135332056540874e+246)\n",
      "grad:  (4.510541664761221e+247, 6.436129909718266e+249)\n",
      "grad:  (-1.0698388380547725e+251, -1.5265620530626607e+253)\n",
      "grad:  (2.5375115107621483e+254, 3.620796557154788e+256)\n",
      "grad:  (-6.018630506028371e+257, -8.588034585296896e+259)\n",
      "grad:  (1.4275369004026855e+261, 2.0369644323847782e+263)\n",
      "grad:  (-3.385922428649087e+264, -4.831401245058213e+266)\n",
      "grad:  (8.030945252339876e+267, 1.145942345366427e+270)\n",
      "grad:  (-1.9048304562551076e+271, -2.718018629164974e+273)\n",
      "grad:  (4.5179975122105146e+274, 6.446768721270679e+276)\n",
      "grad:  (-1.0716072631719119e+278, -1.5290854337640158e+280)\n",
      "grad:  (2.541705973452268e+281, 3.626781671312137e+283)\n",
      "grad:  (-6.02857919827906e+284, -8.60223045810248e+286)\n",
      "grad:  (1.429896594237418e+288, 2.0403314994016183e+290)\n",
      "grad:  (-3.3915192999296205e+291, -4.83938746785068e+293)\n",
      "grad:  (8.044220266102168e+294, 1.1478365682664146e+297)\n",
      "grad:  (-1.907979108092106e+298, -2.7225114670034357e+300)\n",
      "grad:  (4.525465684046839e+301, 6.457425118594798e+303)\n",
      "grad:  (-1.0733786114652193e+305, -1.5316129855700776e+307)\n",
      "grad:  (inf, inf)\n",
      "grad:  (-inf, -inf)\n",
      "grad:  (nan, nan)\n",
      "grad:  (nan, nan)\n",
      "grad:  (nan, nan)\n",
      "grad:  (nan, nan)\n",
      "grad:  (nan, nan)\n",
      "grad:  (nan, nan)\n",
      "grad:  (nan, nan)\n"
     ]
    },
    {
     "name": "stderr",
     "output_type": "stream",
     "text": [
      "C:\\Users\\R1304\\AppData\\Local\\Temp\\ipykernel_58248\\2432369924.py:3: RuntimeWarning: overflow encountered in square\n",
      "  return np.mean((y - y_pred)**2, axis=0)\n",
      "C:\\Users\\R1304\\AppData\\Local\\Temp\\ipykernel_58248\\2432369924.py:2: RuntimeWarning: overflow encountered in multiply\n",
      "  y_pred = w0 + w1 * X\n",
      "C:\\Users\\R1304\\AppData\\Local\\Temp\\ipykernel_58248\\1708837584.py:4: RuntimeWarning: overflow encountered in multiply\n",
      "  y_pred = w0 + w1 * X\n",
      "C:\\Users\\R1304\\AppData\\Local\\Temp\\ipykernel_58248\\1708837584.py:6: RuntimeWarning: overflow encountered in multiply\n",
      "  dW1 = -2 * np.mean((y - y_pred) * X)\n",
      "C:\\Users\\R1304\\AppData\\Local\\Temp\\ipykernel_58248\\1406304670.py:2: RuntimeWarning: invalid value encountered in scalar subtract\n",
      "  return [w - alpha * g for w, g in zip(W, grad)]\n"
     ]
    }
   ],
   "source": [
    "# Initialisation des paramètres et appel de la descente de gradient\n",
    "initial_w0, initial_w1 = 0, 0\n",
    "alpha = 0.1\n",
    "N_max = 100\n",
    "eps = 0.0001\n",
    "\n",
    "W, errors = Batch_Gradient_Descent(X_train, y_train, [initial_w0, initial_w1], N_max, alpha, eps)"
   ]
  },
  {
   "cell_type": "code",
   "execution_count": 65,
   "id": "22df474a",
   "metadata": {},
   "outputs": [
    {
     "data": {
      "text/plain": [
       "[nan, nan]"
      ]
     },
     "execution_count": 65,
     "metadata": {},
     "output_type": "execute_result"
    }
   ],
   "source": [
    "W"
   ]
  },
  {
   "cell_type": "code",
   "execution_count": 66,
   "id": "ef762bb3",
   "metadata": {},
   "outputs": [
    {
     "data": {
      "text/plain": [
       "[847338680.2830461,\n",
       " 4766903266402179.0,\n",
       " 2.681733771286536e+22,\n",
       " 1.5086725318608516e+29,\n",
       " 8.487392867859139e+35,\n",
       " 4.774782875150151e+42,\n",
       " 2.6861666308817716e+49,\n",
       " 1.5111663414927156e+56,\n",
       " 8.501422381644457e+62,\n",
       " 4.782675508755282e+69,\n",
       " 2.6906068179173346e+76,\n",
       " 1.5136642733488164e+83,\n",
       " 8.515475085973686e+89,\n",
       " 4.79058118874741e+96,\n",
       " 2.6950543445053614e+103,\n",
       " 1.5161663342431222e+110,\n",
       " 8.529551019180401e+116,\n",
       " 4.7984999366919854e+123,\n",
       " 2.699509222778002e+130,\n",
       " 1.5186725310008618e+137,\n",
       " 8.543650219661535e+143,\n",
       " 4.8064317741901165e+150,\n",
       " 2.7039714648874676e+157,\n",
       " 1.5211828704585453e+164,\n",
       " 8.557772725877501e+170,\n",
       " 4.814376722878604e+177,\n",
       " 2.7084410830060524e+184,\n",
       " 1.5236973594639854e+191,\n",
       " 8.57191857635226e+197,\n",
       " 4.8223348044300215e+204,\n",
       " 2.712918089326175e+211,\n",
       " 1.526216004876313e+218,\n",
       " 8.58608780967348e+224,\n",
       " 4.830306040552756e+231,\n",
       " 2.717402496060396e+238,\n",
       " 1.528738813565994e+245,\n",
       " 8.600280464492588e+251,\n",
       " 4.838290452991098e+258,\n",
       " 2.7218943154414817e+265,\n",
       " 1.5312657924148575e+272,\n",
       " 8.614496579524935e+278,\n",
       " 4.846288063525266e+285,\n",
       " 2.726393559722405e+292,\n",
       " 1.5337969483161022e+299,\n",
       " 8.628736193549837e+305,\n",
       " inf,\n",
       " inf,\n",
       " inf,\n",
       " inf,\n",
       " inf,\n",
       " inf,\n",
       " inf,\n",
       " inf,\n",
       " inf,\n",
       " inf,\n",
       " inf,\n",
       " inf,\n",
       " inf,\n",
       " inf,\n",
       " inf,\n",
       " inf,\n",
       " inf,\n",
       " inf,\n",
       " inf,\n",
       " inf,\n",
       " inf,\n",
       " inf,\n",
       " inf,\n",
       " inf,\n",
       " inf,\n",
       " inf,\n",
       " inf,\n",
       " inf,\n",
       " inf,\n",
       " inf,\n",
       " inf,\n",
       " inf,\n",
       " inf,\n",
       " inf,\n",
       " inf,\n",
       " inf,\n",
       " inf,\n",
       " inf,\n",
       " inf,\n",
       " inf,\n",
       " inf,\n",
       " inf,\n",
       " inf,\n",
       " inf,\n",
       " inf,\n",
       " inf,\n",
       " inf,\n",
       " nan,\n",
       " nan,\n",
       " nan,\n",
       " nan,\n",
       " nan,\n",
       " nan,\n",
       " nan,\n",
       " nan]"
      ]
     },
     "execution_count": 66,
     "metadata": {},
     "output_type": "execute_result"
    }
   ],
   "source": [
    "errors"
   ]
  },
  {
   "cell_type": "markdown",
   "id": "9a94aa44",
   "metadata": {},
   "source": [
    "Plot the evolution of the MSE error after each iteration."
   ]
  },
  {
   "cell_type": "code",
   "execution_count": 67,
   "id": "3f1b96f4",
   "metadata": {},
   "outputs": [
    {
     "data": {
      "image/png": "[encoded data removed]",
      "text/plain": [
       "<Figure size 640x480 with 1 Axes>"
      ]
     },
     "metadata": {},
     "output_type": "display_data"
    }
   ],
   "source": [
    "plt.plot(errors)\n",
    "plt.xlabel('Iterations')\n",
    "plt.ylabel('MSE')\n",
    "plt.title('Évolution de l\\'erreur MSE')\n",
    "plt.show()"
   ]
  },
  {
   "cell_type": "markdown",
   "id": "bf82bf0e",
   "metadata": {},
   "source": [
    "Provide the error of this model."
   ]
  },
  {
   "cell_type": "code",
   "execution_count": 68,
   "id": "e99bd50c",
   "metadata": {},
   "outputs": [
    {
     "name": "stdout",
     "output_type": "stream",
     "text": [
      "Erreur sur l'ensemble de test (MSE) : nan\n"
     ]
    }
   ],
   "source": [
    "final_w0, final_w1 = W[0], W[1]\n",
    "test_error = MSE(X_test, y_test, final_w0, final_w1)\n",
    "print(f'Erreur sur l\\'ensemble de test (MSE) : {test_error}')"
   ]
  }
 ],
 "metadata": {
  "kernelspec": {
   "display_name": "Python 3 (ipykernel)",
   "language": "python",
   "name": "python3"
  },
  "language_info": {
   "codemirror_mode": {
    "name": "ipython",
    "version": 3
   },
   "file_extension": ".py",
   "mimetype": "text/x-python",
   "name": "python",
   "nbconvert_exporter": "python",
   "pygments_lexer": "ipython3",
   "version": "3.10.10"
  }
 },
 "nbformat": 4,
 "nbformat_minor": 5
}
